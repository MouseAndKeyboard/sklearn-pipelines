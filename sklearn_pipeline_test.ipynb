{
 "cells": [
  {
   "cell_type": "code",
   "execution_count": 146,
   "metadata": {},
   "outputs": [],
   "source": [
    "import numpy as np\n",
    "import pandas as pd\n",
    "from sklearn.pipeline import Pipeline\n",
    "from sklearn.compose import ColumnTransformer\n",
    "from sklearn.preprocessing import MinMaxScaler\n",
    "\n",
    "df = pd.DataFrame(np.random.randint(0,100,size=(300, 8)), columns=['n1', 'n2', 'n3', 'n4', 'n5', 'n6','n7', 'n8'])\n",
    "# Categorical data is simulated by having characters be the data\n",
    "o1 = [chr(np.random.randint(50,80)) for x in range(300)]\n",
    "o2 = [chr(np.random.randint(70,85)) for x in range(300)]\n",
    "df[\"o1\"] = o1\n",
    "df[\"o2\"] = o2\n",
    "classes = [np.random.randint(1,5) for x in range(300)]\n",
    "df[\"class\"] = classes"
   ]
  },
  {
   "cell_type": "code",
   "execution_count": 147,
   "metadata": {},
   "outputs": [
    {
     "data": {
      "text/html": [
       "<div>\n",
       "<style scoped>\n",
       "    .dataframe tbody tr th:only-of-type {\n",
       "        vertical-align: middle;\n",
       "    }\n",
       "\n",
       "    .dataframe tbody tr th {\n",
       "        vertical-align: top;\n",
       "    }\n",
       "\n",
       "    .dataframe thead th {\n",
       "        text-align: right;\n",
       "    }\n",
       "</style>\n",
       "<table border=\"1\" class=\"dataframe\">\n",
       "  <thead>\n",
       "    <tr style=\"text-align: right;\">\n",
       "      <th></th>\n",
       "      <th>n1</th>\n",
       "      <th>n2</th>\n",
       "      <th>n3</th>\n",
       "      <th>n4</th>\n",
       "      <th>n5</th>\n",
       "      <th>n6</th>\n",
       "      <th>n7</th>\n",
       "      <th>n8</th>\n",
       "      <th>o1</th>\n",
       "      <th>o2</th>\n",
       "      <th>class</th>\n",
       "    </tr>\n",
       "  </thead>\n",
       "  <tbody>\n",
       "    <tr>\n",
       "      <td>0</td>\n",
       "      <td>8</td>\n",
       "      <td>74</td>\n",
       "      <td>77</td>\n",
       "      <td>69</td>\n",
       "      <td>89</td>\n",
       "      <td>17</td>\n",
       "      <td>55</td>\n",
       "      <td>70</td>\n",
       "      <td>?</td>\n",
       "      <td>M</td>\n",
       "      <td>2</td>\n",
       "    </tr>\n",
       "    <tr>\n",
       "      <td>1</td>\n",
       "      <td>18</td>\n",
       "      <td>39</td>\n",
       "      <td>75</td>\n",
       "      <td>11</td>\n",
       "      <td>69</td>\n",
       "      <td>47</td>\n",
       "      <td>14</td>\n",
       "      <td>14</td>\n",
       "      <td>J</td>\n",
       "      <td>O</td>\n",
       "      <td>2</td>\n",
       "    </tr>\n",
       "    <tr>\n",
       "      <td>2</td>\n",
       "      <td>66</td>\n",
       "      <td>61</td>\n",
       "      <td>42</td>\n",
       "      <td>14</td>\n",
       "      <td>34</td>\n",
       "      <td>1</td>\n",
       "      <td>2</td>\n",
       "      <td>84</td>\n",
       "      <td>F</td>\n",
       "      <td>F</td>\n",
       "      <td>4</td>\n",
       "    </tr>\n",
       "    <tr>\n",
       "      <td>3</td>\n",
       "      <td>85</td>\n",
       "      <td>22</td>\n",
       "      <td>56</td>\n",
       "      <td>46</td>\n",
       "      <td>40</td>\n",
       "      <td>57</td>\n",
       "      <td>64</td>\n",
       "      <td>52</td>\n",
       "      <td>H</td>\n",
       "      <td>G</td>\n",
       "      <td>4</td>\n",
       "    </tr>\n",
       "    <tr>\n",
       "      <td>4</td>\n",
       "      <td>79</td>\n",
       "      <td>71</td>\n",
       "      <td>44</td>\n",
       "      <td>39</td>\n",
       "      <td>22</td>\n",
       "      <td>84</td>\n",
       "      <td>37</td>\n",
       "      <td>89</td>\n",
       "      <td>5</td>\n",
       "      <td>P</td>\n",
       "      <td>3</td>\n",
       "    </tr>\n",
       "  </tbody>\n",
       "</table>\n",
       "</div>"
      ],
      "text/plain": [
       "   n1  n2  n3  n4  n5  n6  n7  n8 o1 o2  class\n",
       "0   8  74  77  69  89  17  55  70  ?  M      2\n",
       "1  18  39  75  11  69  47  14  14  J  O      2\n",
       "2  66  61  42  14  34   1   2  84  F  F      4\n",
       "3  85  22  56  46  40  57  64  52  H  G      4\n",
       "4  79  71  44  39  22  84  37  89  5  P      3"
      ]
     },
     "execution_count": 147,
     "metadata": {},
     "output_type": "execute_result"
    }
   ],
   "source": [
    "df.head()"
   ]
  },
  {
   "cell_type": "code",
   "execution_count": 148,
   "metadata": {},
   "outputs": [],
   "source": [
    "full_pipeline = ColumnTransformer([\n",
    "    ('rescale_numerical_0', MinMaxScaler(), ['n1', 'n2', 'n3', 'n4', 'n5', 'n6','n7', 'n8']),\n",
    "    ('encode_ordinal_0', OrdinalEncoder(), ['o1', 'o2'])\n",
    "])"
   ]
  },
  {
   "cell_type": "code",
   "execution_count": 149,
   "metadata": {},
   "outputs": [],
   "source": [
    "X_test = df.drop(\"class\", axis=1)\n",
    "y_test = df[\"class\"].copy()"
   ]
  },
  {
   "cell_type": "code",
   "execution_count": 150,
   "metadata": {},
   "outputs": [],
   "source": [
    "df_result = full_pipeline.fit_transform(X_test)"
   ]
  },
  {
   "cell_type": "code",
   "execution_count": 151,
   "metadata": {},
   "outputs": [
    {
     "data": {
      "text/plain": [
       "array([ 0.08080808,  0.74747475,  0.77777778,  0.6969697 ,  0.8989899 ,\n",
       "        0.17171717,  0.55555556,  0.70707071, 13.        ,  7.        ])"
      ]
     },
     "execution_count": 151,
     "metadata": {},
     "output_type": "execute_result"
    }
   ],
   "source": [
    "df_result[0]"
   ]
  }
 ],
 "metadata": {
  "kernelspec": {
   "display_name": "Python 3",
   "language": "python",
   "name": "python3"
  },
  "language_info": {
   "codemirror_mode": {
    "name": "ipython",
    "version": 3
   },
   "file_extension": ".py",
   "mimetype": "text/x-python",
   "name": "python",
   "nbconvert_exporter": "python",
   "pygments_lexer": "ipython3",
   "version": "3.7.4"
  }
 },
 "nbformat": 4,
 "nbformat_minor": 4
}
